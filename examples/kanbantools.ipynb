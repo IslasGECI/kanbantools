{
 "metadata": {
  "language_info": {
   "codemirror_mode": {
    "name": "ipython",
    "version": 3
   },
   "file_extension": ".py",
   "mimetype": "text/x-python",
   "name": "python",
   "nbconvert_exporter": "python",
   "pygments_lexer": "ipython3",
   "version": "3.7.8-final"
  },
  "orig_nbformat": 2,
  "kernelspec": {
   "name": "python3",
   "display_name": "Python 3.7.8 64-bit",
   "metadata": {
    "interpreter": {
     "hash": "4cd7ab41f5fca4b9b44701077e38c5ffd31fe66a6cab21e0214b68d958d0e462"
    }
   }
  }
 },
 "nbformat": 4,
 "nbformat_minor": 2,
 "cells": [
  {
   "cell_type": "code",
   "execution_count": 2,
   "metadata": {},
   "outputs": [],
   "source": [
    "import numpy as np\n",
    "import pandas as pd"
   ]
  },
  {
   "cell_type": "code",
   "execution_count": 31,
   "metadata": {},
   "outputs": [],
   "source": [
    "data_kanban = pd.read_csv('kanban.csv')"
   ]
  },
  {
   "cell_type": "code",
   "execution_count": 32,
   "metadata": {},
   "outputs": [],
   "source": [
    "a = data_kanban.describe().T\n",
    "a.reset_index(inplace=True)"
   ]
  },
  {
   "cell_type": "code",
   "execution_count": 34,
   "metadata": {},
   "outputs": [],
   "source": [
    "columns_dict = {\"index\": \"Nombre_de_la_categoria\", \"count\": \"Cantidad_de_datos\", \"mean\": \"Promedio\", \"std\": \"Desviacion_estandar\", \"min\": \"Minimo_de_la_muestra\", \"25%\":\"Cuartil_inferior\", \"50%\": \"Valor_medio\", \"75%\": \"Cuartil_superior\", \"max\": \"Maximo_de_la_muestra\"}"
   ]
  },
  {
   "cell_type": "code",
   "execution_count": 35,
   "metadata": {},
   "outputs": [
    {
     "output_type": "execute_result",
     "data": {
      "text/plain": [
       "     Nombre_de_la_categoria  Cantidad_de_datos   Promedio  \\\n",
       "0    pendientes_e_inactivas               98.0  23.653061   \n",
       "1                 acostadas               24.0   0.250000   \n",
       "2                   clase_4               98.0   0.132653   \n",
       "3                   clase_3               98.0   1.857143   \n",
       "4                   clase_2               98.0   6.704082   \n",
       "5                   clase_1               98.0   4.448980   \n",
       "6                    activo               98.0  13.142857   \n",
       "7                 terminado               98.0   4.438776   \n",
       "8                 bloqueado               98.0   2.806122   \n",
       "9      estrellas_por_activa               74.0   5.252068   \n",
       "10  estrellas_por_terminada               74.0   3.950039   \n",
       "11    resultados_reportados               34.0   1.029412   \n",
       "12              Integrantes               98.0   4.974490   \n",
       "\n",
       "    Desviacion_estandar  Minimo_de_la_muestra  Cuartil_inferior  Valor_medio  \\\n",
       "0             26.797485              4.000000           14.0000       18.000   \n",
       "1              0.531610              0.000000            0.0000        0.000   \n",
       "2              0.585702              0.000000            0.0000        0.000   \n",
       "3              1.457296              0.000000            1.0000        2.000   \n",
       "4              2.399352              1.000000            5.0000        7.000   \n",
       "5              2.984919              0.000000            2.0000        4.000   \n",
       "6              3.976736              6.000000           10.0000       12.000   \n",
       "7              3.534998              0.000000            2.0000        3.500   \n",
       "8              2.309363              0.000000            2.0000        2.000   \n",
       "9              2.633511              0.285714            3.2025        5.187   \n",
       "10             3.377073              0.000000            1.5000        3.535   \n",
       "11             1.466501              0.000000            0.0000        0.500   \n",
       "12             0.553212              3.500000            5.0000        5.000   \n",
       "\n",
       "    Cuartil_superior  Maximo_de_la_muestra  \n",
       "0            25.0000                 148.0  \n",
       "1             0.0000                   2.0  \n",
       "2             0.0000                   4.0  \n",
       "3             3.0000                   6.0  \n",
       "4             8.0000                  12.0  \n",
       "5             6.0000                  14.0  \n",
       "6            16.0000                  23.0  \n",
       "7             6.7500                  17.0  \n",
       "8             4.0000                  16.0  \n",
       "9             7.0375                  11.6  \n",
       "10            5.2250                  14.0  \n",
       "11            1.0000                   5.0  \n",
       "12            5.5000                   6.5  "
      ],
      "text/html": "<div>\n<style scoped>\n    .dataframe tbody tr th:only-of-type {\n        vertical-align: middle;\n    }\n\n    .dataframe tbody tr th {\n        vertical-align: top;\n    }\n\n    .dataframe thead th {\n        text-align: right;\n    }\n</style>\n<table border=\"1\" class=\"dataframe\">\n  <thead>\n    <tr style=\"text-align: right;\">\n      <th></th>\n      <th>Nombre_de_la_categoria</th>\n      <th>Cantidad_de_datos</th>\n      <th>Promedio</th>\n      <th>Desviacion_estandar</th>\n      <th>Minimo_de_la_muestra</th>\n      <th>Cuartil_inferior</th>\n      <th>Valor_medio</th>\n      <th>Cuartil_superior</th>\n      <th>Maximo_de_la_muestra</th>\n    </tr>\n  </thead>\n  <tbody>\n    <tr>\n      <th>0</th>\n      <td>pendientes_e_inactivas</td>\n      <td>98.0</td>\n      <td>23.653061</td>\n      <td>26.797485</td>\n      <td>4.000000</td>\n      <td>14.0000</td>\n      <td>18.000</td>\n      <td>25.0000</td>\n      <td>148.0</td>\n    </tr>\n    <tr>\n      <th>1</th>\n      <td>acostadas</td>\n      <td>24.0</td>\n      <td>0.250000</td>\n      <td>0.531610</td>\n      <td>0.000000</td>\n      <td>0.0000</td>\n      <td>0.000</td>\n      <td>0.0000</td>\n      <td>2.0</td>\n    </tr>\n    <tr>\n      <th>2</th>\n      <td>clase_4</td>\n      <td>98.0</td>\n      <td>0.132653</td>\n      <td>0.585702</td>\n      <td>0.000000</td>\n      <td>0.0000</td>\n      <td>0.000</td>\n      <td>0.0000</td>\n      <td>4.0</td>\n    </tr>\n    <tr>\n      <th>3</th>\n      <td>clase_3</td>\n      <td>98.0</td>\n      <td>1.857143</td>\n      <td>1.457296</td>\n      <td>0.000000</td>\n      <td>1.0000</td>\n      <td>2.000</td>\n      <td>3.0000</td>\n      <td>6.0</td>\n    </tr>\n    <tr>\n      <th>4</th>\n      <td>clase_2</td>\n      <td>98.0</td>\n      <td>6.704082</td>\n      <td>2.399352</td>\n      <td>1.000000</td>\n      <td>5.0000</td>\n      <td>7.000</td>\n      <td>8.0000</td>\n      <td>12.0</td>\n    </tr>\n    <tr>\n      <th>5</th>\n      <td>clase_1</td>\n      <td>98.0</td>\n      <td>4.448980</td>\n      <td>2.984919</td>\n      <td>0.000000</td>\n      <td>2.0000</td>\n      <td>4.000</td>\n      <td>6.0000</td>\n      <td>14.0</td>\n    </tr>\n    <tr>\n      <th>6</th>\n      <td>activo</td>\n      <td>98.0</td>\n      <td>13.142857</td>\n      <td>3.976736</td>\n      <td>6.000000</td>\n      <td>10.0000</td>\n      <td>12.000</td>\n      <td>16.0000</td>\n      <td>23.0</td>\n    </tr>\n    <tr>\n      <th>7</th>\n      <td>terminado</td>\n      <td>98.0</td>\n      <td>4.438776</td>\n      <td>3.534998</td>\n      <td>0.000000</td>\n      <td>2.0000</td>\n      <td>3.500</td>\n      <td>6.7500</td>\n      <td>17.0</td>\n    </tr>\n    <tr>\n      <th>8</th>\n      <td>bloqueado</td>\n      <td>98.0</td>\n      <td>2.806122</td>\n      <td>2.309363</td>\n      <td>0.000000</td>\n      <td>2.0000</td>\n      <td>2.000</td>\n      <td>4.0000</td>\n      <td>16.0</td>\n    </tr>\n    <tr>\n      <th>9</th>\n      <td>estrellas_por_activa</td>\n      <td>74.0</td>\n      <td>5.252068</td>\n      <td>2.633511</td>\n      <td>0.285714</td>\n      <td>3.2025</td>\n      <td>5.187</td>\n      <td>7.0375</td>\n      <td>11.6</td>\n    </tr>\n    <tr>\n      <th>10</th>\n      <td>estrellas_por_terminada</td>\n      <td>74.0</td>\n      <td>3.950039</td>\n      <td>3.377073</td>\n      <td>0.000000</td>\n      <td>1.5000</td>\n      <td>3.535</td>\n      <td>5.2250</td>\n      <td>14.0</td>\n    </tr>\n    <tr>\n      <th>11</th>\n      <td>resultados_reportados</td>\n      <td>34.0</td>\n      <td>1.029412</td>\n      <td>1.466501</td>\n      <td>0.000000</td>\n      <td>0.0000</td>\n      <td>0.500</td>\n      <td>1.0000</td>\n      <td>5.0</td>\n    </tr>\n    <tr>\n      <th>12</th>\n      <td>Integrantes</td>\n      <td>98.0</td>\n      <td>4.974490</td>\n      <td>0.553212</td>\n      <td>3.500000</td>\n      <td>5.0000</td>\n      <td>5.000</td>\n      <td>5.5000</td>\n      <td>6.5</td>\n    </tr>\n  </tbody>\n</table>\n</div>"
     },
     "metadata": {},
     "execution_count": 35
    }
   ],
   "source": [
    "a.rename(columns = columns_dict)"
   ]
  },
  {
   "cell_type": "code",
   "execution_count": null,
   "metadata": {},
   "outputs": [],
   "source": []
  }
 ]
}